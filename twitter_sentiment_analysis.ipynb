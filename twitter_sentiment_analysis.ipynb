{
 "cells": [
  {
   "cell_type": "code",
   "execution_count": 1,
   "metadata": {
    "id": "WcEQXeWoC1fB"
   },
   "outputs": [],
   "source": [
    "#import libraries\n",
    "import pandas as pd\n",
    "import nltk"
   ]
  },
  {
   "cell_type": "code",
   "execution_count": 2,
   "metadata": {
    "id": "Nm3MckOqC_vG"
   },
   "outputs": [],
   "source": [
    "#import dataset\n",
    "data = pd.read_csv('sentiment_tweets3.csv')"
   ]
  },
  {
   "cell_type": "code",
   "execution_count": 3,
   "metadata": {
    "colab": {
     "base_uri": "https://localhost:8080/",
     "height": 206
    },
    "id": "Q4yyU_2tDAEj",
    "outputId": "73272159-c946-4888-9209-773feb60d76d"
   },
   "outputs": [
    {
     "data": {
      "text/html": [
       "<div>\n",
       "<style scoped>\n",
       "    .dataframe tbody tr th:only-of-type {\n",
       "        vertical-align: middle;\n",
       "    }\n",
       "\n",
       "    .dataframe tbody tr th {\n",
       "        vertical-align: top;\n",
       "    }\n",
       "\n",
       "    .dataframe thead th {\n",
       "        text-align: right;\n",
       "    }\n",
       "</style>\n",
       "<table border=\"1\" class=\"dataframe\">\n",
       "  <thead>\n",
       "    <tr style=\"text-align: right;\">\n",
       "      <th></th>\n",
       "      <th>Index</th>\n",
       "      <th>message to examine</th>\n",
       "      <th>label (depression result)</th>\n",
       "    </tr>\n",
       "  </thead>\n",
       "  <tbody>\n",
       "    <tr>\n",
       "      <th>0</th>\n",
       "      <td>106</td>\n",
       "      <td>just had a real good moment. i missssssssss hi...</td>\n",
       "      <td>0</td>\n",
       "    </tr>\n",
       "    <tr>\n",
       "      <th>1</th>\n",
       "      <td>217</td>\n",
       "      <td>is reading manga  http://plurk.com/p/mzp1e</td>\n",
       "      <td>0</td>\n",
       "    </tr>\n",
       "    <tr>\n",
       "      <th>2</th>\n",
       "      <td>220</td>\n",
       "      <td>@comeagainjen http://twitpic.com/2y2lx - http:...</td>\n",
       "      <td>0</td>\n",
       "    </tr>\n",
       "    <tr>\n",
       "      <th>3</th>\n",
       "      <td>288</td>\n",
       "      <td>@lapcat Need to send 'em to my accountant tomo...</td>\n",
       "      <td>0</td>\n",
       "    </tr>\n",
       "    <tr>\n",
       "      <th>4</th>\n",
       "      <td>540</td>\n",
       "      <td>ADD ME ON MYSPACE!!!  myspace.com/LookThunder</td>\n",
       "      <td>0</td>\n",
       "    </tr>\n",
       "  </tbody>\n",
       "</table>\n",
       "</div>"
      ],
      "text/plain": [
       "   Index                                 message to examine  \\\n",
       "0    106  just had a real good moment. i missssssssss hi...   \n",
       "1    217         is reading manga  http://plurk.com/p/mzp1e   \n",
       "2    220  @comeagainjen http://twitpic.com/2y2lx - http:...   \n",
       "3    288  @lapcat Need to send 'em to my accountant tomo...   \n",
       "4    540      ADD ME ON MYSPACE!!!  myspace.com/LookThunder   \n",
       "\n",
       "   label (depression result)  \n",
       "0                          0  \n",
       "1                          0  \n",
       "2                          0  \n",
       "3                          0  \n",
       "4                          0  "
      ]
     },
     "execution_count": 3,
     "metadata": {},
     "output_type": "execute_result"
    }
   ],
   "source": [
    "data.head()"
   ]
  },
  {
   "cell_type": "code",
   "execution_count": 4,
   "metadata": {
    "colab": {
     "base_uri": "https://localhost:8080/"
    },
    "id": "oqEeMekaDRJu",
    "outputId": "656b0077-a4ed-4e80-9724-b082279f30e7"
   },
   "outputs": [
    {
     "name": "stdout",
     "output_type": "stream",
     "text": [
      "<class 'pandas.core.frame.DataFrame'>\n",
      "RangeIndex: 10314 entries, 0 to 10313\n",
      "Data columns (total 3 columns):\n",
      " #   Column                     Non-Null Count  Dtype \n",
      "---  ------                     --------------  ----- \n",
      " 0   Index                      10314 non-null  int64 \n",
      " 1   message to examine         10314 non-null  object\n",
      " 2   label (depression result)  10314 non-null  int64 \n",
      "dtypes: int64(2), object(1)\n",
      "memory usage: 241.9+ KB\n"
     ]
    }
   ],
   "source": [
    "data.info()"
   ]
  },
  {
   "cell_type": "code",
   "execution_count": 5,
   "metadata": {
    "id": "AgggOyhBDAJk"
   },
   "outputs": [],
   "source": [
    "#create a variable and assign all the text data to it\n",
    "text = data['message to examine']"
   ]
  },
  {
   "cell_type": "code",
   "execution_count": 6,
   "metadata": {
    "colab": {
     "base_uri": "https://localhost:8080/"
    },
    "id": "KeKHhsqsDAP_",
    "outputId": "658bc003-3ce1-411f-e20a-a9bc1afba43d"
   },
   "outputs": [
    {
     "data": {
      "text/plain": [
       "0        just had a real good moment. i missssssssss hi...\n",
       "1               is reading manga  http://plurk.com/p/mzp1e\n",
       "2        @comeagainjen http://twitpic.com/2y2lx - http:...\n",
       "3        @lapcat Need to send 'em to my accountant tomo...\n",
       "4            ADD ME ON MYSPACE!!!  myspace.com/LookThunder\n",
       "                               ...                        \n",
       "10309    No Depression by G Herbo is my mood from now o...\n",
       "10310    What do you do when depression succumbs the br...\n",
       "10311    Ketamine Nasal Spray Shows Promise Against Dep...\n",
       "10312    dont mistake a bad day with depression! everyo...\n",
       "10313                                                    0\n",
       "Name: message to examine, Length: 10314, dtype: object"
      ]
     },
     "execution_count": 6,
     "metadata": {},
     "output_type": "execute_result"
    }
   ],
   "source": [
    "text"
   ]
  },
  {
   "cell_type": "code",
   "execution_count": 7,
   "metadata": {
    "colab": {
     "base_uri": "https://localhost:8080/"
    },
    "id": "Jo2uw5qNDAVq",
    "outputId": "788f4dc4-2532-4f5a-b1bf-238a0393f489"
   },
   "outputs": [
    {
     "data": {
      "text/plain": [
       "0        just had a real good moment . i missssssssss h...\n",
       "1                is reading manga http://plurk.com/p/mzp1e\n",
       "2        @comeagainjen http://twitpic.com/2y2lx - http:...\n",
       "3        @lapcat Need to send ' em to my accountant tom...\n",
       "4          ADD ME ON MYSPACE ! ! ! myspace.com/LookThunder\n",
       "                               ...                        \n",
       "10309    No Depression by G Herbo is my mood from now o...\n",
       "10310    What do you do when depression succumbs the br...\n",
       "10311    Ketamine Nasal Spray Shows Promise Against Dep...\n",
       "10312    dont mistake a bad day with depression ! every...\n",
       "10313                                                    0\n",
       "Name: message to examine, Length: 10314, dtype: object"
      ]
     },
     "execution_count": 7,
     "metadata": {},
     "output_type": "execute_result"
    }
   ],
   "source": [
    "from nltk import TweetTokenizer\n",
    "tk = TweetTokenizer()\n",
    "\n",
    "text = text.apply(lambda x:tk.tokenize(x)).apply(lambda x: \" \".join(x))\n",
    "text"
   ]
  },
  {
   "cell_type": "code",
   "execution_count": 8,
   "metadata": {
    "colab": {
     "base_uri": "https://localhost:8080/"
    },
    "id": "hBudWjYvF5gE",
    "outputId": "d5d2ed9c-4165-4211-8fe3-e33d40f33911"
   },
   "outputs": [
    {
     "name": "stderr",
     "output_type": "stream",
     "text": [
      "/tmp/ipykernel_30961/2973751598.py:2: FutureWarning: The default value of regex will change from True to False in a future version.\n",
      "  text=text.str.replace('[^a-zA-Z0-9]+',' ')\n"
     ]
    },
    {
     "data": {
      "text/plain": [
       "0        just had a real good moment i missssssssss him...\n",
       "1                  is reading manga http plurk com p mzp1e\n",
       "2         comeagainjen http twitpic com 2y2lx http www ...\n",
       "3         lapcat Need to send em to my accountant tomor...\n",
       "4                ADD ME ON MYSPACE myspace com LookThunder\n",
       "                               ...                        \n",
       "10309    No Depression by G Herbo is my mood from now o...\n",
       "10310    What do you do when depression succumbs the br...\n",
       "10311    Ketamine Nasal Spray Shows Promise Against Dep...\n",
       "10312    dont mistake a bad day with depression everyon...\n",
       "10313                                                    0\n",
       "Name: message to examine, Length: 10314, dtype: object"
      ]
     },
     "execution_count": 8,
     "metadata": {},
     "output_type": "execute_result"
    }
   ],
   "source": [
    "#remove a-z,0-9,and symbols\n",
    "text=text.str.replace('[^a-zA-Z0-9]+',' ')\n",
    "text"
   ]
  },
  {
   "cell_type": "code",
   "execution_count": 9,
   "metadata": {
    "colab": {
     "base_uri": "https://localhost:8080/"
    },
    "id": "a_nFAClnF5n0",
    "outputId": "e9fab35c-c5e8-445d-8300-a6ba8fa82f0b"
   },
   "outputs": [
    {
     "name": "stderr",
     "output_type": "stream",
     "text": [
      "[nltk_data] Downloading package punkt to /home/arjun/nltk_data...\n",
      "[nltk_data]   Package punkt is already up-to-date!\n"
     ]
    }
   ],
   "source": [
    "import nltk\n",
    "nltk.download('punkt')\n",
    "from nltk.tokenize import word_tokenize\n",
    "text = text.apply(lambda x:' '.join([w for w in word_tokenize(x) if len(w)>=3]))"
   ]
  },
  {
   "cell_type": "code",
   "execution_count": 10,
   "metadata": {
    "colab": {
     "base_uri": "https://localhost:8080/"
    },
    "id": "lPWFNGSrF5vY",
    "outputId": "e3b10625-14d0-4f03-82b3-ddd594f4b5d3"
   },
   "outputs": [
    {
     "data": {
      "text/plain": [
       "0          just had real good moment missssssssss him much\n",
       "1                       reading manga http plurk com mzp1e\n",
       "2        comeagainjen http twitpic com 2y2lx http www y...\n",
       "3        lapcat Need send accountant tomorrow Oddly was...\n",
       "4                      ADD MYSPACE myspace com LookThunder\n",
       "                               ...                        \n",
       "10309    Depression Herbo mood from now done stressing ...\n",
       "10310    What you when depression succumbs the brain an...\n",
       "10311    Ketamine Nasal Spray Shows Promise Against Dep...\n",
       "10312    dont mistake bad day with depression everyone has\n",
       "10313                                                     \n",
       "Name: message to examine, Length: 10314, dtype: object"
      ]
     },
     "execution_count": 10,
     "metadata": {},
     "output_type": "execute_result"
    }
   ],
   "source": [
    "text"
   ]
  },
  {
   "cell_type": "code",
   "execution_count": 11,
   "metadata": {
    "id": "sD3lGCK8Fik-"
   },
   "outputs": [],
   "source": [
    "from nltk.stem import SnowballStemmer\n",
    "stemmer = SnowballStemmer('english')\n",
    "text = text.apply(lambda x:[stemmer.stem(i.lower()) for i in tk.tokenize(x)]).apply(lambda x:' '.join(x))"
   ]
  },
  {
   "cell_type": "code",
   "execution_count": 12,
   "metadata": {
    "colab": {
     "base_uri": "https://localhost:8080/"
    },
    "id": "ZNoCU4DXEtSA",
    "outputId": "88657d26-f4f8-441f-fb4e-d2a9e509d5cb"
   },
   "outputs": [
    {
     "name": "stderr",
     "output_type": "stream",
     "text": [
      "[nltk_data] Downloading package stopwords to /home/arjun/nltk_data...\n",
      "[nltk_data]   Unzipping corpora/stopwords.zip.\n"
     ]
    }
   ],
   "source": [
    "nltk.download('stopwords')\n",
    "from nltk.corpus import stopwords\n",
    "stop = stopwords.words('english')\n",
    "text = text.apply(lambda x:[i for i in word_tokenize(x) if i not in stop]).apply(lambda x:' '.join(x))"
   ]
  },
  {
   "cell_type": "code",
   "execution_count": 13,
   "metadata": {
    "id": "V2VYIkuoEsM8"
   },
   "outputs": [],
   "source": [
    "from sklearn.feature_extraction.text import TfidfVectorizer\n",
    "vec = TfidfVectorizer()\n",
    "train_data_vec = vec.fit_transform(text)"
   ]
  },
  {
   "cell_type": "code",
   "execution_count": 14,
   "metadata": {
    "colab": {
     "base_uri": "https://localhost:8080/"
    },
    "id": "RVa6jj5hEr5r",
    "outputId": "ce3f76ca-9cfe-4c31-913c-deb81aa0caa7"
   },
   "outputs": [
    {
     "data": {
      "text/plain": [
       "(10314, 19040)"
      ]
     },
     "execution_count": 14,
     "metadata": {},
     "output_type": "execute_result"
    }
   ],
   "source": [
    "train_data_vec.shape"
   ]
  },
  {
   "cell_type": "code",
   "execution_count": 15,
   "metadata": {
    "colab": {
     "base_uri": "https://localhost:8080/"
    },
    "id": "JFFvW_dBErvQ",
    "outputId": "93a0b4f8-fc18-4fb4-c62f-f79fbc0943ac"
   },
   "outputs": [
    {
     "name": "stdout",
     "output_type": "stream",
     "text": [
      "  (0, 11972)\t0.3308656896635815\n",
      "  (0, 11653)\t0.6664789134825422\n",
      "  (0, 11760)\t0.47516424735585633\n",
      "  (0, 7606)\t0.25960993354599604\n",
      "  (0, 14207)\t0.3913507042609722\n",
      "  (1, 327)\t0.49276308201303815\n",
      "  (1, 12106)\t0.49276308201303815\n",
      "  (1, 4599)\t0.1766245001829646\n",
      "  (1, 13521)\t0.3496755548074766\n",
      "  (1, 8541)\t0.1912647781355139\n",
      "  (1, 11030)\t0.49276308201303815\n",
      "  (1, 14200)\t0.28548592253386107\n",
      "  (2, 607)\t0.40156274938331676\n",
      "  (2, 19015)\t0.40156274938331676\n",
      "  (2, 18141)\t0.1925505399388701\n",
      "  (2, 18890)\t0.2645390998121607\n",
      "  (2, 18614)\t0.19652974259272796\n",
      "  (2, 674)\t0.40156274938331676\n",
      "  (2, 17509)\t0.2276527357980494\n",
      "  (2, 4605)\t0.37241150869357437\n",
      "  (2, 4599)\t0.2878698607540926\n",
      "  (2, 8541)\t0.31173118673794986\n",
      "  (3, 16983)\t0.23183737310840505\n",
      "  (3, 6520)\t0.3218377749492992\n",
      "  (3, 16410)\t0.2530330269558558\n",
      "  :\t:\n",
      "  (10310, 16304)\t0.5698836837707327\n",
      "  (10310, 5462)\t0.15619860113622247\n",
      "  (10310, 3509)\t0.41675089151732847\n",
      "  (10310, 6337)\t0.38972157483187514\n",
      "  (10310, 12304)\t0.32815334651555794\n",
      "  (10310, 6769)\t0.28283508164424764\n",
      "  (10310, 10979)\t0.28059048582357615\n",
      "  (10310, 10465)\t0.24260884058971016\n",
      "  (10311, 943)\t0.40644024083353036\n",
      "  (10311, 4518)\t0.3674363298183382\n",
      "  (10311, 12179)\t0.3769349211674743\n",
      "  (10311, 9856)\t0.35311365610820084\n",
      "  (10311, 16333)\t0.2515984619650866\n",
      "  (10311, 5462)\t0.1066699892758836\n",
      "  (10311, 8098)\t0.23547414841880326\n",
      "  (10311, 16006)\t0.35967541559104105\n",
      "  (10311, 8542)\t0.1757033607017036\n",
      "  (10311, 13814)\t0.30247641895691435\n",
      "  (10311, 15465)\t0.226206274048369\n",
      "  (10312, 5462)\t0.19010512949744532\n",
      "  (10312, 11658)\t0.5884225663477576\n",
      "  (10312, 2752)\t0.4196573355105594\n",
      "  (10312, 6514)\t0.38776718079759903\n",
      "  (10312, 5843)\t0.45795551453948924\n",
      "  (10312, 5282)\t0.2853419073722084\n"
     ]
    }
   ],
   "source": [
    "print(train_data_vec)"
   ]
  },
  {
   "cell_type": "code",
   "execution_count": 16,
   "metadata": {
    "id": "Khodi2zqJ8A8"
   },
   "outputs": [],
   "source": [
    "y = data['label (depression result)'].values"
   ]
  },
  {
   "cell_type": "code",
   "execution_count": 17,
   "metadata": {
    "colab": {
     "base_uri": "https://localhost:8080/"
    },
    "id": "zgzMp_-UN1vZ",
    "outputId": "e5248eda-4c0e-4615-bee8-3e15cc79a5aa"
   },
   "outputs": [
    {
     "data": {
      "text/plain": [
       "array([0, 0, 0, ..., 1, 1, 1])"
      ]
     },
     "execution_count": 17,
     "metadata": {},
     "output_type": "execute_result"
    }
   ],
   "source": [
    "y"
   ]
  },
  {
   "cell_type": "code",
   "execution_count": 18,
   "metadata": {
    "id": "_wCUq6zwJ8IA"
   },
   "outputs": [],
   "source": [
    "from sklearn.model_selection import train_test_split\n",
    "x_train,x_test,y_train,y_test = train_test_split(train_data_vec,y,test_size=0.2,random_state=0)"
   ]
  },
  {
   "cell_type": "code",
   "execution_count": 19,
   "metadata": {
    "id": "qKHpCNYmJ8QE"
   },
   "outputs": [],
   "source": [
    "from sklearn.ensemble import RandomForestClassifier\n",
    "model = RandomForestClassifier()\n",
    "model.fit(x_train,y_train)\n",
    "\n",
    "ypred=model.predict(x_test)"
   ]
  },
  {
   "cell_type": "code",
   "execution_count": 20,
   "metadata": {
    "colab": {
     "base_uri": "https://localhost:8080/"
    },
    "id": "ojokrbyzJ8WN",
    "outputId": "185b35e5-127d-44f6-826f-ec359b220421"
   },
   "outputs": [
    {
     "data": {
      "text/plain": [
       "array([0, 0, 0, ..., 0, 0, 0])"
      ]
     },
     "execution_count": 20,
     "metadata": {},
     "output_type": "execute_result"
    }
   ],
   "source": [
    "ypred"
   ]
  },
  {
   "cell_type": "code",
   "execution_count": 22,
   "metadata": {},
   "outputs": [
    {
     "name": "stdout",
     "output_type": "stream",
     "text": [
      "[0 0 0 ... 0 0 0]\n"
     ]
    }
   ],
   "source": [
    "print(ypred)"
   ]
  }
 ],
 "metadata": {
  "colab": {
   "provenance": []
  },
  "kernelspec": {
   "display_name": "Python 3 (ipykernel)",
   "language": "python",
   "name": "python3"
  },
  "language_info": {
   "codemirror_mode": {
    "name": "ipython",
    "version": 3
   },
   "file_extension": ".py",
   "mimetype": "text/x-python",
   "name": "python",
   "nbconvert_exporter": "python",
   "pygments_lexer": "ipython3",
   "version": "3.9.7"
  }
 },
 "nbformat": 4,
 "nbformat_minor": 1
}
